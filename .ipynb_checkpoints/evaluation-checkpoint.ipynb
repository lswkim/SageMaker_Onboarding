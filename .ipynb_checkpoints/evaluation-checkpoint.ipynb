{
 "cells": [
  {
   "cell_type": "markdown",
   "metadata": {},
   "source": [
    "# Evaluate Each Model"
   ]
  },
  {
   "cell_type": "code",
   "execution_count": 2,
   "metadata": {},
   "outputs": [],
   "source": [
    "import re\n",
    "\n",
    "def pre_processing(text):\n",
    "    text = re.sub('[^ㄱ-힣a-zA-Z0-9 ]', ' ', text)    \n",
    "    text = re.sub(' +', ' ', text)\n",
    "    \n",
    "    result_text = text[0]\n",
    "    cnt = 0\n",
    "    \n",
    "    for alpha in text[1:]:\n",
    "        if result_text[-1] == alpha: cnt += 1\n",
    "        else: cnt = 0\n",
    "\n",
    "        if cnt < 3: result_text += alpha\n",
    "        else: continue\n",
    "        \n",
    "    return result_text\n",
    "\n",
    "def get_predicated_label(output_labels, min_score):\n",
    "    labels = []\n",
    "    for label in output_labels:\n",
    "        if label['score'] > min_score:\n",
    "            labels.append(1)\n",
    "        else:\n",
    "            labels.append(0)\n",
    "    return labels"
   ]
  },
  {
   "cell_type": "code",
   "execution_count": null,
   "metadata": {},
   "outputs": [],
   "source": [
    "from datetime import datetime\n",
    "\n",
    "now = datetime.now()\n",
    "now = str(now)[:19].replace('-', '').replace(':', '').replace(' ', '')\n",
    "\n",
    "model_list = ['beomi/kcbert-base', 'beomi/kcbert-large', 'beomi/KcELECTRA-base']\n",
    "model_name = model_list[2]\n",
    "\n",
    "num_train_epochs = 20\n",
    "per_device_train_batch_size = 64\n",
    "data_preprocessed = 'preprocessed'\n",
    "\n",
    "prefix = f'{now}_{model_name.split(\"/\")[1]}_{num_train_epochs}_{data_preprocessed}'"
   ]
  },
  {
   "cell_type": "code",
   "execution_count": null,
   "metadata": {},
   "outputs": [],
   "source": [
    "import sagemaker\n",
    "\n",
    "sess = sagemaker.Session()\n",
    "bucket = 'implementation-unsmile'\n",
    "\n",
    "role = sagemaker.get_execution_role()\n",
    "sess = sagemaker.Session(default_bucket=bucket)\n",
    "\n",
    "print(f\"sagemaker role arn: {role}\")\n",
    "print(f\"sagemaker bucket: {sess.default_bucket()}\")\n",
    "print(f\"sagemaker session region: {sess.boto_region_name}\")"
   ]
  },
  {
   "cell_type": "code",
   "execution_count": null,
   "metadata": {},
   "outputs": [],
   "source": [
    "import pandas as pd\n",
    "\n",
    "# load dataset\n",
    "train_file = 'data/train/unsmile_train_v1.0.tsv'\n",
    "test_file = 'data/valid/unsmile_valid_v1.0.tsv'\n",
    "\n",
    "s3_uri_train = 's3://{}/{}'.format(bucket, train_file)\n",
    "s3_uri_test = 's3://{}/{}'.format(bucket, test_file)\n",
    "\n",
    "train_df = pd.read_csv(s3_uri_train, sep='\\t')\n",
    "test_df = pd.read_csv(s3_uri_test, sep='\\t')\n"
   ]
  },
  {
   "cell_type": "code",
   "execution_count": null,
   "metadata": {},
   "outputs": [],
   "source": [
    "from sagemaker.huggingface import HuggingFaceModel\n",
    "import sagemaker \n",
    "\n",
    "role = sagemaker.get_execution_role()\n",
    "model_list = [\n",
    "    # kcBERT-base\n",
    "    's3://implementation-unsmile/huggingface-pytorch-training-2022-05-26-11-55-44-694/output/model.tar.gz',\n",
    "    # kcBERT-large\n",
    "    's3://implementation-unsmile/huggingface-pytorch-training-2022-05-26-09-35-57-477/output/model.tar.gz',\n",
    "    # kcELECTRA-base\n",
    "    's3://implementation-unsmile/huggingface-pytorch-training-2022-05-26-02-22-36-270/output/model.tar.gz'\n",
    "]\n",
    "model_data = model_list[2]\n",
    "\n",
    "# create Hugging Face Model Class\n",
    "huggingface_model = HuggingFaceModel(\n",
    "   model_data=model_data, # path to your trained sagemaker model\n",
    "   role=role, # iam role with permissions to create an Endpoint\n",
    "   transformers_version=\"4.12\", # transformers version used\n",
    "   pytorch_version=\"1.9\", # pytorch version used\n",
    "   py_version=\"py38\", # python version of the DLC\n",
    ")"
   ]
  },
  {
   "cell_type": "code",
   "execution_count": null,
   "metadata": {},
   "outputs": [],
   "source": [
    "predictor_kcelectra_base = huggingface_model.deploy(\n",
    "    initial_instance_count=1,\n",
    "    instance_type=\"ml.m5.large\"\n",
    ")"
   ]
  },
  {
   "cell_type": "code",
   "execution_count": null,
   "metadata": {},
   "outputs": [],
   "source": [
    "import tqdm\n",
    "\n",
    "unsmile_labels = [\"여성/가족\",\"남성\",\"성소수자\",\"인종/국적\",\"연령\",\"지역\",\"종교\",\"기타 혐오\",\"악플/욕설\",\"clean\"]\n",
    "unsmile_labels_eng = [\"female/family\",\"male\",\"sexual minority\",\"race/country\",\"age\",\"region\",\"religion\",\"etc\",\"malicious comments/abuse\",\"clean\"]\n",
    "predicated_labels_kcelectra_base = []\n",
    "\n",
    "for idx, out in tqdm.tqdm(test_df.iterrows()):\n",
    "    text = pre_processing(out['문장'])\n",
    "    data = {\"inputs\": text}\n",
    "    response = predictor_kcelectra_base.predict(data)[0]\n",
    "    temp_list = [0,0,0,0,0,0,0,0,0,0]\n",
    "    temp_list[unsmile_labels.index(response['label'])] = 1\n",
    "    \n",
    "    predicated_labels_kcelectra_base.append(temp_list)\n",
    "    \n",
    "predicated_labels_kcelectra_base[:5]"
   ]
  },
  {
   "cell_type": "code",
   "execution_count": null,
   "metadata": {},
   "outputs": [],
   "source": [
    "def make_label_list(row):\n",
    "    temp_list = []\n",
    "    for col in unsmile_labels:\n",
    "        temp_list.append(row[col])\n",
    "    return temp_list\n",
    "\n",
    "test_df['labels'] = test_df.apply(lambda x: make_label_list(x), axis=1)"
   ]
  },
  {
   "cell_type": "code",
   "execution_count": null,
   "metadata": {},
   "outputs": [],
   "source": [
    "test_df_list = list(test_df['labels'])"
   ]
  },
  {
   "cell_type": "code",
   "execution_count": null,
   "metadata": {},
   "outputs": [],
   "source": [
    "with open(f'./inference_file/kcElectra-base.txt', 'w') as f:\n",
    "    for lable in predicated_labels_kcelectra_base:\n",
    "        f.write(str(lable) + '\\n')\n",
    "    \n",
    "    f.close()"
   ]
  },
  {
   "cell_type": "code",
   "execution_count": null,
   "metadata": {},
   "outputs": [],
   "source": [
    "from sklearn.metrics import classification_report\n",
    "\n",
    "print(classification_report(test_df_list, predicated_labels_kcelectra_base, target_names=unsmile_labels_eng))"
   ]
  },
  {
   "cell_type": "code",
   "execution_count": null,
   "metadata": {},
   "outputs": [],
   "source": [
    "y_test = [x.index(1) for x in test_df_list]\n",
    "y_pred_kcelectra_base = [x.index(1) for x in predicated_labels_kcelectra_base]"
   ]
  },
  {
   "cell_type": "code",
   "execution_count": null,
   "metadata": {},
   "outputs": [],
   "source": [
    "#importing confusion matrix\n",
    "from sklearn.metrics import confusion_matrix\n",
    "confusion = confusion_matrix(y_test, y_pred_kcbert_large)\n",
    "print('Confusion Matrix\\n')\n",
    "print(confusion)"
   ]
  },
  {
   "cell_type": "code",
   "execution_count": null,
   "metadata": {},
   "outputs": [],
   "source": [
    "plot_confusion_matrix(confusion, unsmile_labels_eng, normalize=False)"
   ]
  },
  {
   "cell_type": "code",
   "execution_count": null,
   "metadata": {},
   "outputs": [],
   "source": [
    "predictor.delete_endpoint()"
   ]
  }
 ],
 "metadata": {
  "instance_type": "ml.t3.medium",
  "kernelspec": {
   "display_name": "Python 3 (PyTorch 1.10 Python 3.8 CPU Optimized)",
   "language": "python",
   "name": "python3__SAGEMAKER_INTERNAL__arn:aws:sagemaker:ap-northeast-2:806072073708:image/pytorch-1.10-cpu-py38"
  },
  "language_info": {
   "codemirror_mode": {
    "name": "ipython",
    "version": 3
   },
   "file_extension": ".py",
   "mimetype": "text/x-python",
   "name": "python",
   "nbconvert_exporter": "python",
   "pygments_lexer": "ipython3",
   "version": "3.8.10"
  }
 },
 "nbformat": 4,
 "nbformat_minor": 4
}
