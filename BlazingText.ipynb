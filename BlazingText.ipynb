{
 "cells": [
  {
   "cell_type": "markdown",
   "metadata": {},
   "source": [
    "# Built-in Algorithm - BlazingText"
   ]
  },
  {
   "cell_type": "markdown",
   "metadata": {},
   "source": [
    "https://docs.aws.amazon.com/ko_kr/sagemaker/latest/dg/blazingtext.html  \n",
    "https://github.com/daekeun-ml/blazingtext-workshop-korean  \n",
    "[튜토리얼](https://sagemaker-examples.readthedocs.io/en/latest/introduction_to_amazon_algorithms/blazingtext_text_classification_dbpedia/blazingtext_text_classification_dbpedia.html)"
   ]
  },
  {
   "cell_type": "markdown",
   "metadata": {},
   "source": [
    "## 1. 입력 데이터 형식 맞추기"
   ]
  },
  {
   "cell_type": "markdown",
   "metadata": {},
   "source": [
    "```\n",
    "__label__0 아 더빙.. 진짜 짜증나네요 목소리\n",
    "__label__1 흠...포스터보고 초딩영화줄....오버연기조차 가볍지 않구나\n",
    "```"
   ]
  },
  {
   "cell_type": "code",
   "execution_count": 7,
   "metadata": {},
   "outputs": [],
   "source": [
    "import pandas as pd\n",
    "\n",
    "bucket = ''\n",
    "\n",
    "train_file = 'data/unsmile_train_v1.0.tsv'\n",
    "test_file = 'data/unsmile_valid_v1.0.tsv'\n",
    "\n",
    "s3_uri_train = 's3://{}/{}'.format(bucket, train_file)\n",
    "s3_uri_test = 's3://{}/{}'.format(bucket, test_file)\n",
    "\n",
    "train_df = pd.read_csv(s3_uri_train, sep='\\t')\n",
    "test_df = pd.read_csv(s3_uri_test, sep='\\t')"
   ]
  },
  {
   "cell_type": "code",
   "execution_count": 11,
   "metadata": {},
   "outputs": [],
   "source": [
    "import re\n",
    "\n",
    "foreign_dict = ['Hình', 'xăm', 'đẹp']\n",
    "\n",
    "def pre_processing(text):\n",
    "    \n",
    "    for word in foreign_dict:\n",
    "        if word in text:\n",
    "            text = text.replace(word, '')\n",
    "    \n",
    "    text = re.sub('[^ㄱ-힣a-zA-Z0-9 ]', ' ', text)    \n",
    "    text = re.sub(' +', ' ', text)\n",
    "    \n",
    "    result_text = text[0]\n",
    "    cnt = 0\n",
    "    \n",
    "    for alpha in text[1:]:\n",
    "        if result_text[-1] == alpha:\n",
    "            cnt += 1\n",
    "        else:\n",
    "            cnt = 0\n",
    "\n",
    "        if cnt < 3:\n",
    "            result_text += alpha\n",
    "        else:\n",
    "            continue\n",
    "        \n",
    "    return result_text"
   ]
  },
  {
   "cell_type": "code",
   "execution_count": 12,
   "metadata": {},
   "outputs": [],
   "source": [
    "train_df['문장2'] = train_df['문장'].apply(lambda x: pre_processing(x))\n",
    "test_df['문장2'] = test_df['문장'].apply(lambda x: pre_processing(x))"
   ]
  },
  {
   "cell_type": "code",
   "execution_count": 13,
   "metadata": {},
   "outputs": [],
   "source": [
    "def make_label_list(row):\n",
    "    temp_list = []\n",
    "    for col in unsmile_labels:\n",
    "        temp_list.append(row[col])\n",
    "    return temp_list"
   ]
  },
  {
   "cell_type": "code",
   "execution_count": 14,
   "metadata": {},
   "outputs": [],
   "source": [
    "train_df['labels'] = train_df.apply(lambda x: make_label_list(x), axis=1)\n",
    "test_df['labels'] = test_df.apply(lambda x: make_label_list(x), axis=1)"
   ]
  },
  {
   "cell_type": "code",
   "execution_count": 15,
   "metadata": {},
   "outputs": [],
   "source": [
    "unsmile_labels = [\"여성/가족\",\"남성\",\"성소수자\",\"인종/국적\",\"연령\",\"지역\",\"종교\",\"기타 혐오\",\"악플/욕설\",\"clean\"]"
   ]
  },
  {
   "cell_type": "code",
   "execution_count": 17,
   "metadata": {},
   "outputs": [],
   "source": [
    "train_df = train_df.drop(5876)\n",
    "train_df = train_df.drop(11942)"
   ]
  },
  {
   "cell_type": "code",
   "execution_count": 18,
   "metadata": {},
   "outputs": [],
   "source": [
    "train_df['label'] = train_df['labels'].apply(lambda x: unsmile_labels[x.index(1)])\n",
    "test_df['label'] = test_df['labels'].apply(lambda x: unsmile_labels[x.index(1)])"
   ]
  },
  {
   "cell_type": "code",
   "execution_count": 19,
   "metadata": {},
   "outputs": [],
   "source": [
    "with open('./unsmile.train', 'w') as f:\n",
    "    \n",
    "    for idx, row in train_df.iterrows():\n",
    "        text = \"__label__\" + row.label\n",
    "        text += ' ' + row.문장2\n",
    "\n",
    "        f.write(text+'\\n') \n",
    "        \n",
    "    f.close()\n",
    "\n",
    "with open('./unsmile.validation', 'w') as f:\n",
    "    \n",
    "    for idx, row in test_df.iterrows():\n",
    "        text = \"__label__\" + row.label\n",
    "        text += ' ' + row.문장2\n",
    "\n",
    "        f.write(text+'\\n')\n",
    "\n",
    "    f.close()    \n"
   ]
  },
  {
   "cell_type": "code",
   "execution_count": null,
   "metadata": {},
   "outputs": [],
   "source": [
    "import sagemaker\n",
    "\n",
    "sess = sagemaker.Session()\n",
    "\n",
    "prefix = 'blazingtext/unsmile'\n",
    "\n",
    "train_channel = prefix + \"/train\"\n",
    "validation_channel = prefix + \"/validation\"\n",
    "\n",
    "sess.upload_data(path=\"./unsmile.train\", bucket=bucket, key_prefix=train_channel)\n",
    "sess.upload_data(path=\"./unsmile.validation\", bucket=bucket, key_prefix=validation_channel)"
   ]
  },
  {
   "cell_type": "code",
   "execution_count": null,
   "metadata": {},
   "outputs": [],
   "source": [
    "import boto3\n",
    "from sagemaker import get_execution_role\n",
    "\n",
    "region_name = boto3.Session().region_name\n",
    "s3_output_location = \"s3://{}/{}/output\".format(bucket, prefix)\n",
    "role = get_execution_role()\n"
   ]
  },
  {
   "cell_type": "code",
   "execution_count": null,
   "metadata": {},
   "outputs": [],
   "source": [
    "# get docker image from ecr\n",
    "container = sagemaker.amazon.amazon_estimator.get_image_uri(region_name, \"blazingtext\", \"latest\")\n",
    "print(\"Using SageMaker BlazingText container: {} ({})\".format(container, region_name))"
   ]
  },
  {
   "cell_type": "code",
   "execution_count": null,
   "metadata": {},
   "outputs": [],
   "source": [
    "# Create Estimator object\n",
    "bt_model = sagemaker.estimator.Estimator(\n",
    "    container, # choose algorithm\n",
    "    role,\n",
    "    instance_count=1, # number of instance for train job\n",
    "    instance_type=\"ml.c4.4xlarge\", # instance type\n",
    "    volume_size=30, \n",
    "    max_run=360000, # limit time(sec) for training\n",
    "    input_mode=\"File\",\n",
    "    output_path=s3_output_location,\n",
    "    hyperparameters={\n",
    "        \"mode\": \"supervised\",\n",
    "        \"epochs\": 1,\n",
    "        \"min_count\": 2,\n",
    "        \"learning_rate\": 0.05,\n",
    "        \"vector_dim\": 10,\n",
    "        \"early_stopping\": True,\n",
    "        \"patience\": 4,\n",
    "        \"min_epochs\": 5,\n",
    "        \"word_ngrams\": 2,\n",
    "    },\n",
    ")"
   ]
  },
  {
   "cell_type": "code",
   "execution_count": null,
   "metadata": {},
   "outputs": [],
   "source": [
    "bt_model.fit(inputs=data_channels, logs=True)"
   ]
  },
  {
   "cell_type": "code",
   "execution_count": null,
   "metadata": {},
   "outputs": [],
   "source": [
    "from sagemaker.serializers import JSONSerializer\n",
    "\n",
    "unsmile_classifier = bt_model.deploy(\n",
    "    initial_instance_count=1, instance_type=\"ml.m4.xlarge\", serializer=JSONSerializer()\n",
    ")"
   ]
  },
  {
   "cell_type": "code",
   "execution_count": null,
   "metadata": {},
   "outputs": [],
   "source": [
    "payload = {\"instances\": ['한남']}\n",
    "\n",
    "unsmile_classifier.predict(payload)"
   ]
  },
  {
   "cell_type": "code",
   "execution_count": null,
   "metadata": {},
   "outputs": [],
   "source": [
    "unsmile_classifier.delete_endpoint()"
   ]
  }
 ],
 "metadata": {
  "instance_type": "ml.t3.medium",
  "kernelspec": {
   "display_name": "Python 3 (PyTorch 1.10 Python 3.8 CPU Optimized)",
   "language": "python",
   "name": "python3__SAGEMAKER_INTERNAL__arn:aws:sagemaker:ap-northeast-2:806072073708:image/pytorch-1.10-cpu-py38"
  },
  "language_info": {
   "codemirror_mode": {
    "name": "ipython",
    "version": 3
   },
   "file_extension": ".py",
   "mimetype": "text/x-python",
   "name": "python",
   "nbconvert_exporter": "python",
   "pygments_lexer": "ipython3",
   "version": "3.8.10"
  }
 },
 "nbformat": 4,
 "nbformat_minor": 4
}
